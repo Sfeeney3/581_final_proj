{
 "cells": [
  {
   "cell_type": "code",
   "execution_count": 15,
   "metadata": {},
   "outputs": [],
   "source": [
    "import cirq\n",
    "import numpy as np"
   ]
  },
  {
   "cell_type": "code",
   "execution_count": 16,
   "metadata": {},
   "outputs": [],
   "source": [
    "def H_p(C, gamma, N):\n",
    "    HCircuit = cirq.Circuit()\n",
    "    qubits = cirq.LineQubit.range(N)\n",
    "    for i in range(0, N, 1):\n",
    "        for j in range(i+1, N, 1):\n",
    "            HCircuit.append(cirq.CNOT(qubits[i], qubits[j]))\n",
    "            HCircuit.append(cirq.rz(gamma * C[i][j])(cirq.LineQubit(j)))\n",
    "            HCircuit.append(cirq.CNOT(qubits[i], qubits[j]))\n",
    "    return HCircuit\n",
    "\n",
    "def H_d(N, beta):\n",
    "    dCircuit = cirq.Circuit()\n",
    "    qubits = cirq.LineQubit.range(N)\n",
    "    for i in range(N):\n",
    "        dCircuit.append(cirq.rx(beta)(cirq.LineQubit(i)))\n",
    "    return dCircuit\n",
    "\n",
    "def H_pZZ(C, gamma, N):\n",
    "    HCircuit = cirq.Circuit()\n",
    "    qubits = cirq.LineQubit.range(N)\n",
    "    for i in range(0, N, 1):\n",
    "        for j in range(i+1, N, 1):\n",
    "            HCircuit.append(cirq.ZZ(qubits[i], qubits[j]) ** (gamma*C[i][j]))\n",
    "    return HCircuit"
   ]
  },
  {
   "cell_type": "code",
   "execution_count": null,
   "metadata": {},
   "outputs": [],
   "source": [
    "def singleGateError(circuit, qubit):\n",
    "    if np.random.random() < 0.0005:\n",
    "        gate = np.random.choice(range(3))\n",
    "        if gate == 0:\n",
    "            circuit.append(cirq.X(qubit))\n",
    "        if gate == 1:\n",
    "            circuit.append(cirq.Y(qubit))\n",
    "        if gate == 2:\n",
    "            circuit.append(cirq.Z(qubit))\n",
    "def CNOTError(circuit, qubit):\n",
    "    if np.random.random() < 0.05:\n",
    "        gate = np.random.choice(range(3))\n",
    "        if gate == 0:\n",
    "            circuit.append(cirq.X(qubit))\n",
    "        if gate == 1:\n",
    "            circuit.append(cirq.Y(qubit))\n",
    "        if gate == 2:\n",
    "            circuit.append(cirq.Z(qubit))"
   ]
  },
  {
   "cell_type": "code",
   "execution_count": 17,
   "metadata": {},
   "outputs": [],
   "source": [
    "def f(x):\n",
    "    return 1 - (1-x)**2"
   ]
  },
  {
   "cell_type": "code",
   "execution_count": 18,
   "metadata": {},
   "outputs": [
    {
     "name": "stderr",
     "output_type": "stream",
     "text": [
      "/home/dumpster-jedi/.local/lib/python3.10/site-packages/cirq/vis/state_histogram.py:103: UserWarning: Matplotlib is currently using module://matplotlib_inline.backend_inline, which is a non-GUI backend, so cannot show the figure.\n",
      "  fig.show()\n"
     ]
    },
    {
     "data": {
      "text/plain": [
       "<Axes: title={'center': 'Result State Histogram'}, xlabel='qubit state', ylabel='result count'>"
      ]
     },
     "execution_count": 18,
     "metadata": {},
     "output_type": "execute_result"
    },
    {
     "data": {
      "image/png": "[encoded data removed]",
      "text/plain": [
       "<Figure size 640x480 with 1 Axes>"
      ]
     },
     "metadata": {},
     "output_type": "display_data"
    }
   ],
   "source": [
    "#################################TEST#############################################\n",
    "costMat = [[0, .12, .05, .83, .76],\n",
    "           [0, 0, .09, .95, .69],\n",
    "           [0, 0, 0, .98, .87],\n",
    "           [0, 0, 0, 0, .12],\n",
    "           [0, 0, 0, 0, 0],]\n",
    "costMat = np.array(costMat)\n",
    "for i in range(len(costMat)):\n",
    "    for j in range(len(costMat)):\n",
    "        costMat[i][j] = costMat[i][j] * 100\n",
    "\n",
    "N = 5\n",
    "\n",
    "testCircuit = cirq.Circuit()\n",
    "testQubits = cirq.LineQubit.range(N)\n",
    "\n",
    "testCircuit.append(cirq.H.on_each(*testQubits))\n",
    "\n",
    "T = 1.0\n",
    "dt = .2\n",
    "\n",
    "for t in np.arange(0, T, dt):\n",
    "    pAngle = (-2 * f(t/T) * dt)\n",
    "    dAngle = (-2 * (1-f(t/T) * dt))\n",
    "    testCircuit.append(H_pZZ(costMat, pAngle, N))\n",
    "    testCircuit.append(H_d(N, dAngle))\n",
    "\n",
    "testCircuit.append(cirq.measure(*testQubits, key='z'))\n",
    "\n",
    "\n",
    "\n",
    "counts = 1000\n",
    "\n",
    "simulator = cirq.Simulator()\n",
    "samples =  simulator.run(testCircuit, repetitions=counts)\n",
    "\n",
    "data = samples.histogram(key='z')\n",
    "cirq.plot_state_histogram(data)\n",
    "\n",
    "##################################TEST############################################\n",
    "#correct answer should be 7 or 24\n"
   ]
  }
 ],
 "metadata": {
  "kernelspec": {
   "display_name": "Python 3",
   "language": "python",
   "name": "python3"
  },
  "language_info": {
   "codemirror_mode": {
    "name": "ipython",
    "version": 3
   },
   "file_extension": ".py",
   "mimetype": "text/x-python",
   "name": "python",
   "nbconvert_exporter": "python",
   "pygments_lexer": "ipython3",
   "version": "3.10.6"
  },
  "orig_nbformat": 4
 },
 "nbformat": 4,
 "nbformat_minor": 2
}
