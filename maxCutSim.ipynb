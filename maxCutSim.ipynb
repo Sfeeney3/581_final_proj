{
 "cells": [
  {
   "cell_type": "code",
   "execution_count": 4,
   "metadata": {},
   "outputs": [],
   "source": [
    "import cirq\n",
    "import numpy as np"
   ]
  },
  {
   "cell_type": "code",
   "execution_count": 5,
   "metadata": {},
   "outputs": [],
   "source": [
    "def H_p(C, gamma, N):\n",
    "    HCircuit = cirq.Circuit()\n",
    "    qubits = cirq.LineQubit.range(N)\n",
    "    for i in range(0, N, 1):\n",
    "        for j in range(i+1, N, 1):\n",
    "            HCircuit.append(cirq.CNOT(qubits[i], qubits[j % N]))\n",
    "            HCircuit.append(cirq.Z(qubits[j]) ** (gamma * C[i][j] / np.pi))\n",
    "            HCircuit.append(cirq.CNOT(qubits[i], qubits[j]))\n",
    "    return HCircuit\n",
    "\n",
    "def H_d(N, beta):\n",
    "    dCircuit = cirq.Circuit()\n",
    "    qubits = cirq.LineQubit.range(N)\n",
    "    for i in range(N):\n",
    "        dCircuit.append(cirq.X(qubits[i]) ** (beta))\n",
    "    return dCircuit"
   ]
  },
  {
   "cell_type": "code",
   "execution_count": 7,
   "metadata": {},
   "outputs": [
    {
     "name": "stdout",
     "output_type": "stream",
     "text": [
      "                                          ┌──┐             ┌──┐   ┌──┐             ┌──┐   ┌──┐              ┌──┐\n",
      "0: ───@─────────────@───@─────────────@────@────────────────@──────@────────────────@──────────────────────────────────────────────────────────────────X───\n",
      "      │             │   │             │    │                │      │                │\n",
      "1: ───X───Z^0.038───X───┼─────────────┼────┼@───────────────┼@─────┼@───────────────┼@─────@─────────────────@─────────────────────────────────────────X───\n",
      "                        │             │    ││               ││     ││               ││     │                 │\n",
      "2: ─────────────────────X───Z^0.016───X────┼X────Z^0.029────┼X─────┼┼───────────────┼┼─────┼@────────────────┼@────@─────────────@─────────────────────X───\n",
      "                                           │                │      ││               ││     ││                ││    │             │\n",
      "3: ────────────────────────────────────────X─────Z^0.264────X──────┼X────Z^0.302────┼X─────┼X────Z^(5/16)────┼X────┼─────────────┼───@─────────────@───X───\n",
      "                                                                   │                │      │                 │     │             │   │             │\n",
      "4: ────────────────────────────────────────────────────────────────X─────Z^0.242────X──────X─────Z^0.22──────X─────X───Z^0.277───X───X───Z^0.038───X───X───\n",
      "                                          └──┘             └──┘   └──┘             └──┘   └──┘              └──┘\n"
     ]
    }
   ],
   "source": [
    "#################################TEST#############################################\n",
    "costMat = [[0, .12, .05, .83, .76],\n",
    "           [0, 0, .09, .95, .69],\n",
    "           [0, 0, 0, .98, .87],\n",
    "           [0, 0, 0, 0, .12],\n",
    "           [0, 0, 0, 0, 0],]\n",
    "costMat = np.array(costMat)\n",
    "\n",
    "testCircuit = cirq.Circuit()\n",
    "testQubits = cirq.LineQubit.range(5)\n",
    "\n",
    "testCircuit.append(H_p(costMat, 1, 5))\n",
    "testCircuit.append(H_d(5))\n",
    "print(testCircuit)\n",
    "##################################TEST############################################\n"
   ]
  }
 ],
 "metadata": {
  "kernelspec": {
   "display_name": "Python 3",
   "language": "python",
   "name": "python3"
  },
  "language_info": {
   "codemirror_mode": {
    "name": "ipython",
    "version": 3
   },
   "file_extension": ".py",
   "mimetype": "text/x-python",
   "name": "python",
   "nbconvert_exporter": "python",
   "pygments_lexer": "ipython3",
   "version": "3.10.6"
  },
  "orig_nbformat": 4
 },
 "nbformat": 4,
 "nbformat_minor": 2
}
