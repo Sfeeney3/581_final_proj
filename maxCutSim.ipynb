{
 "cells": [
  {
   "cell_type": "code",
   "execution_count": null,
   "metadata": {},
   "outputs": [],
   "source": [
    "import cirq\n",
    "import numpy as np"
   ]
  },
  {
   "cell_type": "code",
   "execution_count": null,
   "metadata": {},
   "outputs": [],
   "source": [
    "def H_p(C, gamma, N):\n",
    "    HCircuit = cirq.Circuit()\n",
    "    qubits = cirq.LineQubit.range(N)\n",
    "    for i in range(0, N, 1):\n",
    "        for j in range(i+1, i + N, 1):\n",
    "            HCircuit.append(cirq.CNOT(qubits[i], qubits[j % N]))\n",
    "            HCircuit.append(cirq.Z(qubits[j % N]) ** (gamma * C[i][j % N] / np.pi))\n",
    "            HCircuit.append(cirq.CNOT(qubits[i], qubits[j % N]))\n",
    "    return HCircuit\n",
    "\n",
    "def H_d(N):\n",
    "    dCircuit = cirq.Circuit()\n",
    "    qubits = cirq.LineQubit.range(N)\n",
    "    for i in range(N):\n",
    "        dCircuit.append(cirq.X(qubits[i]))\n",
    "    return dCircuit"
   ]
  }
 ],
 "metadata": {
  "language_info": {
   "name": "python"
  },
  "orig_nbformat": 4
 },
 "nbformat": 4,
 "nbformat_minor": 2
}
